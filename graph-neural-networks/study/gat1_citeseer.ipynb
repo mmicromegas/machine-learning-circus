{
 "cells": [
  {
   "cell_type": "code",
   "execution_count": 1,
   "id": "f31c400f",
   "metadata": {},
   "outputs": [
    {
     "name": "stderr",
     "output_type": "stream",
     "text": [
      "c:\\Users\\mmocak\\PycharmProjects\\machine-learning-circus\\.venv\\Lib\\site-packages\\torch\\utils\\_pytree.py:185: FutureWarning: optree is installed but the version is too old to support PyTorch Dynamo in C++ pytree. C++ pytree support is disabled. Please consider upgrading optree using `python3 -m pip install --upgrade 'optree>=0.13.0'`.\n",
      "  warnings.warn(\n"
     ]
    }
   ],
   "source": [
    "import torch\n",
    "import random\n",
    "import matplotlib.pyplot as plt"
   ]
  },
  {
   "cell_type": "code",
   "execution_count": 2,
   "id": "21a2cb58",
   "metadata": {},
   "outputs": [],
   "source": [
    "from torch_geometric.datasets import Planetoid\n",
    "from torch_geometric.transforms import NormalizeFeatures\n",
    "\n",
    "citeseer_dataset = Planetoid(root = \"Citeseer_dataset\", name = \"Citeseer\", transform = NormalizeFeatures())"
   ]
  },
  {
   "cell_type": "code",
   "execution_count": 3,
   "id": "02c3c314",
   "metadata": {},
   "outputs": [
    {
     "name": "stdout",
     "output_type": "stream",
     "text": [
      "1\n",
      "6\n",
      "3703\n"
     ]
    },
    {
     "data": {
      "text/plain": [
       "Data(x=[3327, 3703], edge_index=[2, 9104], y=[3327], train_mask=[3327], val_mask=[3327], test_mask=[3327])"
      ]
     },
     "execution_count": 3,
     "metadata": {},
     "output_type": "execute_result"
    }
   ],
   "source": [
    "print(len(citeseer_dataset))\n",
    "print(citeseer_dataset.num_classes)\n",
    "print(citeseer_dataset.num_features)\n",
    "citeseer_graph = citeseer_dataset[0]\n",
    "citeseer_graph"
   ]
  },
  {
   "cell_type": "code",
   "execution_count": 4,
   "id": "b8f640dc",
   "metadata": {},
   "outputs": [
    {
     "data": {
      "text/plain": [
       "tensor([[0., 0., 0.,  ..., 0., 0., 0.],\n",
       "        [0., 0., 0.,  ..., 0., 0., 0.],\n",
       "        [0., 0., 0.,  ..., 0., 0., 0.],\n",
       "        ...,\n",
       "        [0., 0., 0.,  ..., 0., 0., 0.],\n",
       "        [0., 0., 0.,  ..., 0., 0., 0.],\n",
       "        [0., 0., 0.,  ..., 0., 0., 0.]])"
      ]
     },
     "execution_count": 4,
     "metadata": {},
     "output_type": "execute_result"
    }
   ],
   "source": [
    "citeseer_graph.x"
   ]
  },
  {
   "cell_type": "code",
   "execution_count": 5,
   "id": "e8b5a58a",
   "metadata": {},
   "outputs": [
    {
     "name": "stdout",
     "output_type": "stream",
     "text": [
      "Training samples:  120\n",
      "Validation samples:  500\n",
      "Test samples:  1000\n"
     ]
    }
   ],
   "source": [
    "print(\"Training samples: \", citeseer_graph.train_mask.sum().item())\n",
    "print(\"Validation samples: \", citeseer_graph.val_mask.sum().item())\n",
    "print(\"Test samples: \", citeseer_graph.test_mask.sum().item())"
   ]
  },
  {
   "cell_type": "code",
   "execution_count": 6,
   "id": "d16cfc59",
   "metadata": {},
   "outputs": [
    {
     "data": {
      "text/plain": [
       "tensor([3, 1, 5,  ..., 3, 1, 5])"
      ]
     },
     "execution_count": 6,
     "metadata": {},
     "output_type": "execute_result"
    }
   ],
   "source": [
    "citeseer_graph.y"
   ]
  },
  {
   "cell_type": "code",
   "execution_count": 7,
   "id": "87407600",
   "metadata": {},
   "outputs": [
    {
     "name": "stdout",
     "output_type": "stream",
     "text": [
      "Number of nodes: 3327\n",
      "Number of edges: 9104\n",
      "Average node degree: 2.74\n",
      "Has isolated nodes: True\n",
      "Has self-loops: False\n",
      "Is undirected: True\n"
     ]
    }
   ],
   "source": [
    "print(f'Number of nodes: {citeseer_graph.num_nodes}')\n",
    "print(f'Number of edges: {citeseer_graph.num_edges}')\n",
    "print(f'Average node degree: {citeseer_graph.num_edges / citeseer_graph.num_nodes:.2f}')\n",
    "print(f'Has isolated nodes: {citeseer_graph.has_isolated_nodes()}')\n",
    "print(f'Has self-loops: {citeseer_graph.has_self_loops()}')\n",
    "print(f'Is undirected: {citeseer_graph.is_undirected()}')"
   ]
  },
  {
   "cell_type": "markdown",
   "id": "764081d5",
   "metadata": {},
   "source": [
    "We swap out all GCNConv instances with GATConv layers that make use of attention. Building a 2-layer GAT model that makes use of 8 attention heads in the first layer and 1 attention head in the second layer , also using  a dropout ratio of 0.6 inside and outside each GATConv call, and  a hidden_channels dimensions of 8 per head. Document link-\n",
    "https://towardsdatascience.com/graph-attention-networks-in-python-975736ac5c0c"
   ]
  },
  {
   "cell_type": "code",
   "execution_count": 8,
   "id": "1d01c744",
   "metadata": {},
   "outputs": [],
   "source": [
    "import torch.nn as nn\n",
    "import torch.nn.functional as F\n",
    "from torch_geometric.nn import  GATConv\n",
    "\n",
    "class GAT(torch.nn.Module):\n",
    "    def __init__(self, input_channels, output_channels, hidden_channels = 8, num_heads = 8):\n",
    "        super().__init__()\n",
    "        torch.manual_seed(123456)\n",
    "        \n",
    "        self.gatconv1 = GATConv(\n",
    "            in_channels = input_channels, \n",
    "            out_channels = hidden_channels, \n",
    "            heads = num_heads\n",
    "        )\n",
    "        \n",
    "        self.gatconv2 = GATConv(\n",
    "            in_channels = hidden_channels * num_heads, \n",
    "            out_channels = output_channels, \n",
    "            heads = 1\n",
    "        )\n",
    "    \n",
    "    def forward(self, data):\n",
    "        x, edge_index = data.x, data.edge_index\n",
    "        \n",
    "        x = F.dropout(x, p = 0.6, training = self.training)\n",
    "        \n",
    "        x = self.gatconv1(x, edge_index)\n",
    "        x = F.elu(x)\n",
    "        \n",
    "        x = F.dropout(x, p = 0.6, training = self.training)\n",
    "        x = self.gatconv2(x, edge_index)\n",
    "        \n",
    "        return x"
   ]
  },
  {
   "cell_type": "code",
   "execution_count": 9,
   "id": "633227c4",
   "metadata": {},
   "outputs": [],
   "source": [
    "device = torch.device(\"cuda\" if torch.cuda.is_available() else \"cpu\")\n",
    "\n",
    "citeseer_graph = citeseer_dataset[0].to(device)\n",
    "\n",
    "input_channels = citeseer_dataset.num_features\n",
    "\n",
    "# hidden_channels = 32\n",
    "hidden_channels = 8\n",
    "\n",
    "output_channels = citeseer_dataset.num_classes"
   ]
  },
  {
   "cell_type": "code",
   "execution_count": 10,
   "id": "909dc245",
   "metadata": {},
   "outputs": [],
   "source": [
    "model = GAT(\n",
    "    input_channels = input_channels, \n",
    "    output_channels = output_channels\n",
    ").to(device)\n",
    "\n",
    "optimizer = torch.optim.Adam(model.parameters(), lr = 0.005, weight_decay = 5e-4)\n",
    "\n",
    "criterion = nn.CrossEntropyLoss()"
   ]
  },
  {
   "cell_type": "code",
   "execution_count": 11,
   "id": "01928327",
   "metadata": {},
   "outputs": [
    {
     "name": "stdout",
     "output_type": "stream",
     "text": [
      "Number of parameters:  237586\n"
     ]
    }
   ],
   "source": [
    "print(\"Number of parameters: \", sum(p.numel() for p in model.parameters()))"
   ]
  },
  {
   "cell_type": "code",
   "execution_count": 12,
   "id": "db97ad31",
   "metadata": {},
   "outputs": [
    {
     "name": "stdout",
     "output_type": "stream",
     "text": [
      "Epoch: 010, Train Loss: 1.700, Train Acc: 0.858\n",
      "Epoch: 020, Train Loss: 1.559, Train Acc: 0.933\n",
      "Epoch: 030, Train Loss: 1.403, Train Acc: 0.908\n",
      "Epoch: 040, Train Loss: 1.218, Train Acc: 0.942\n",
      "Epoch: 050, Train Loss: 1.033, Train Acc: 0.892\n",
      "Epoch: 060, Train Loss: 0.860, Train Acc: 0.942\n",
      "Epoch: 070, Train Loss: 0.701, Train Acc: 0.925\n",
      "Epoch: 080, Train Loss: 0.614, Train Acc: 0.942\n",
      "Epoch: 090, Train Loss: 0.574, Train Acc: 0.942\n",
      "Epoch: 100, Train Loss: 0.471, Train Acc: 0.933\n",
      "Epoch: 110, Train Loss: 0.419, Train Acc: 0.975\n",
      "Epoch: 120, Train Loss: 0.356, Train Acc: 0.992\n",
      "Epoch: 130, Train Loss: 0.365, Train Acc: 0.975\n",
      "Epoch: 140, Train Loss: 0.378, Train Acc: 0.967\n",
      "Epoch: 150, Train Loss: 0.352, Train Acc: 0.983\n",
      "Epoch: 160, Train Loss: 0.336, Train Acc: 0.983\n",
      "Epoch: 170, Train Loss: 0.299, Train Acc: 0.975\n",
      "Epoch: 180, Train Loss: 0.343, Train Acc: 0.958\n",
      "Epoch: 190, Train Loss: 0.307, Train Acc: 0.967\n",
      "Epoch: 200, Train Loss: 0.284, Train Acc: 0.975\n",
      "CPU times: total: 56.7 s\n",
      "Wall time: 13.9 s\n"
     ]
    }
   ],
   "source": [
    "%%time\n",
    "num_epochs = 200\n",
    "\n",
    "for epoch in range(num_epochs):\n",
    "    model.train()\n",
    "\n",
    "    optimizer.zero_grad()\n",
    "    \n",
    "    out = model(citeseer_graph)\n",
    "    \n",
    "    loss = criterion(out[citeseer_graph.train_mask], citeseer_graph.y[citeseer_graph.train_mask])\n",
    "    loss.backward()\n",
    "    \n",
    "    optimizer.step()\n",
    "    \n",
    "    # Get predictions on the training data\n",
    "    pred_train = out.argmax(dim = 1)\n",
    "    \n",
    "    correct_train = (\n",
    "        pred_train[citeseer_graph.train_mask] == citeseer_graph.y[citeseer_graph.train_mask]\n",
    "    ).sum()\n",
    "    \n",
    "    acc_train = int(correct_train) / int(citeseer_graph.train_mask.sum())\n",
    "\n",
    "    # Print training loss\n",
    "    if (epoch + 1) % 10 == 0:\n",
    "        print(f\"Epoch: {epoch + 1:03d}, Train Loss: {loss:.3f}, Train Acc: {acc_train:.3f}\")"
   ]
  },
  {
   "cell_type": "code",
   "execution_count": 13,
   "id": "62dd0f64",
   "metadata": {},
   "outputs": [
    {
     "name": "stdout",
     "output_type": "stream",
     "text": [
      "Test Accuracy: 0.7050\n"
     ]
    }
   ],
   "source": [
    "model.eval()\n",
    "\n",
    "with torch.no_grad():\n",
    "    pred = model(citeseer_graph).argmax(dim = 1)\n",
    "\n",
    "    correct = (pred[citeseer_graph.test_mask] == citeseer_graph.y[citeseer_graph.test_mask]).sum()\n",
    "\n",
    "    test_acc = int(correct) / int(citeseer_graph.test_mask.sum())\n",
    "\n",
    "print(f'Test Accuracy: {test_acc:.4f}')"
   ]
  }
 ],
 "metadata": {
  "kernelspec": {
   "display_name": ".venv",
   "language": "python",
   "name": "python3"
  },
  "language_info": {
   "codemirror_mode": {
    "name": "ipython",
    "version": 3
   },
   "file_extension": ".py",
   "mimetype": "text/x-python",
   "name": "python",
   "nbconvert_exporter": "python",
   "pygments_lexer": "ipython3",
   "version": "3.11.7"
  }
 },
 "nbformat": 4,
 "nbformat_minor": 5
}
