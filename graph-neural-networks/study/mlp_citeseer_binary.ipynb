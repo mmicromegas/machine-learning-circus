{
 "cells": [
  {
   "cell_type": "code",
   "execution_count": 1,
   "id": "57a24091",
   "metadata": {},
   "outputs": [
    {
     "name": "stderr",
     "output_type": "stream",
     "text": [
      "c:\\Users\\mmocak\\PycharmProjects\\machine-learning-circus\\.venv\\Lib\\site-packages\\torch\\utils\\_pytree.py:185: FutureWarning: optree is installed but the version is too old to support PyTorch Dynamo in C++ pytree. C++ pytree support is disabled. Please consider upgrading optree using `python3 -m pip install --upgrade 'optree>=0.13.0'`.\n",
      "  warnings.warn(\n"
     ]
    }
   ],
   "source": [
    "import torch\n",
    "import random\n",
    "import matplotlib.pyplot as plt"
   ]
  },
  {
   "cell_type": "code",
   "execution_count": 2,
   "id": "9a7c61a3",
   "metadata": {},
   "outputs": [],
   "source": [
    "from torch_geometric.datasets import Planetoid\n",
    "from torch_geometric.transforms import NormalizeFeatures\n",
    "from torch_geometric.utils import subgraph\n",
    "\n",
    "citeseer_dataset = Planetoid(root = \"citeseer_dataset\", name = \"Citeseer\", transform = NormalizeFeatures())"
   ]
  },
  {
   "cell_type": "code",
   "execution_count": 3,
   "id": "e1737ecf",
   "metadata": {},
   "outputs": [
    {
     "data": {
      "text/plain": [
       "Data(x=[3327, 3703], edge_index=[2, 9104], y=[3327], train_mask=[3327], val_mask=[3327], test_mask=[3327])"
      ]
     },
     "execution_count": 3,
     "metadata": {},
     "output_type": "execute_result"
    }
   ],
   "source": [
    "citeseer_dataset[0]"
   ]
  },
  {
   "cell_type": "code",
   "execution_count": 4,
   "id": "dc2e3a46",
   "metadata": {},
   "outputs": [],
   "source": [
    "data = citeseer_dataset[0]\n",
    "\n",
    "# Create a mask for nodes whose label is either 0 or 1\n",
    "mask = (data.y == 0) | (data.y == 1)\n",
    "filtered_node_indices = mask.nonzero(as_tuple=False).view(-1)\n",
    "\n",
    "# Extract the subgraph that contains only the filtered nodes. \n",
    "# The parameter relabel_nodes=True updates node indices accordingly.\n",
    "edge_index, edge_attr = subgraph(filtered_node_indices, data.edge_index, relabel_nodes=True, num_nodes=data.num_nodes)\n",
    "\n",
    "# Create a new data object for the filtered graph\n",
    "filtered_data = data.__class__()\n",
    "filtered_data.x = data.x[filtered_node_indices]\n",
    "filtered_data.y = data.y[filtered_node_indices]\n",
    "filtered_data.edge_index = edge_index\n",
    "if hasattr(data, 'edge_attr') and data.edge_attr is not None:\n",
    "    filtered_data.edge_attr = edge_attr\n",
    "\n",
    "num_nodes = filtered_data.num_nodes\n",
    "torch.manual_seed(42)\n",
    "indices = torch.randperm(num_nodes)\n",
    "\n",
    "train_end = int(0.6 * num_nodes)\n",
    "val_end = int(0.8 * num_nodes)\n",
    "\n",
    "train_mask = torch.zeros(num_nodes, dtype=torch.bool)\n",
    "val_mask = torch.zeros(num_nodes, dtype=torch.bool)\n",
    "test_mask = torch.zeros(num_nodes, dtype=torch.bool)\n",
    "\n",
    "train_mask[indices[:train_end]] = True\n",
    "val_mask[indices[train_end:val_end]] = True\n",
    "test_mask[indices[val_end:]] = True\n",
    "\n",
    "filtered_data.train_mask = train_mask\n",
    "filtered_data.val_mask = val_mask\n",
    "filtered_data.test_mask = test_mask\n",
    "\n",
    "\n",
    "\n",
    "filtered_citeseer_dataset = filtered_data\n"
   ]
  },
  {
   "cell_type": "code",
   "execution_count": 5,
   "id": "bf4de8aa",
   "metadata": {},
   "outputs": [
    {
     "name": "stdout",
     "output_type": "stream",
     "text": [
      "6\n",
      "3703\n"
     ]
    },
    {
     "data": {
      "text/plain": [
       "Data(x=[854, 3703], y=[854], edge_index=[2, 1320], train_mask=[854], val_mask=[854], test_mask=[854])"
      ]
     },
     "execution_count": 5,
     "metadata": {},
     "output_type": "execute_result"
    }
   ],
   "source": [
    "print(len(filtered_citeseer_dataset))\n",
    "#print(filtered_citeseer_dataset.num_classes)\n",
    "print(filtered_citeseer_dataset.num_features)\n",
    "citeseer_graph = filtered_citeseer_dataset\n",
    "citeseer_graph"
   ]
  },
  {
   "cell_type": "code",
   "execution_count": 6,
   "id": "8f596aeb",
   "metadata": {},
   "outputs": [
    {
     "data": {
      "text/plain": [
       "tensor([[0., 0., 0.,  ..., 0., 0., 0.],\n",
       "        [0., 0., 0.,  ..., 0., 0., 0.],\n",
       "        [0., 0., 0.,  ..., 0., 0., 0.],\n",
       "        ...,\n",
       "        [0., 0., 0.,  ..., 0., 0., 0.],\n",
       "        [0., 0., 0.,  ..., 0., 0., 0.],\n",
       "        [0., 0., 0.,  ..., 0., 0., 0.]])"
      ]
     },
     "execution_count": 6,
     "metadata": {},
     "output_type": "execute_result"
    }
   ],
   "source": [
    "citeseer_graph.x"
   ]
  },
  {
   "cell_type": "code",
   "execution_count": 7,
   "id": "80f95dd3",
   "metadata": {},
   "outputs": [
    {
     "name": "stdout",
     "output_type": "stream",
     "text": [
      "Training samples:  512\n",
      "Validation samples:  171\n",
      "Test samples:  171\n"
     ]
    }
   ],
   "source": [
    "print(\"Training samples: \", citeseer_graph.train_mask.sum().item())\n",
    "print(\"Validation samples: \", citeseer_graph.val_mask.sum().item())\n",
    "print(\"Test samples: \", citeseer_graph.test_mask.sum().item())"
   ]
  },
  {
   "cell_type": "code",
   "execution_count": 8,
   "id": "68bebe8f",
   "metadata": {},
   "outputs": [
    {
     "data": {
      "text/plain": [
       "tensor([1, 1, 0, 1, 0, 1, 1, 1, 1, 1, 1, 1, 1, 1, 1, 0, 0, 1, 1, 0, 1, 1, 0, 1,\n",
       "        1, 1, 0, 0, 0, 0, 0, 0, 0, 0, 0, 0, 0, 0, 0, 0, 1, 0, 0, 0, 1, 1, 1, 1,\n",
       "        1, 1, 1, 1, 0, 0, 0, 0, 1, 1, 1, 1, 1, 1, 1, 1, 1, 1, 1, 0, 1, 0, 0, 0,\n",
       "        1, 1, 1, 0, 1, 1, 1, 1, 1, 1, 1, 1, 1, 0, 1, 1, 0, 1, 0, 1, 1, 1, 0, 1,\n",
       "        1, 1, 0, 1, 0, 1, 0, 1, 1, 1, 1, 1, 1, 0, 1, 0, 0, 1, 1, 0, 1, 1, 0, 0,\n",
       "        0, 1, 0, 1, 1, 1, 1, 1, 1, 1, 1, 1, 1, 1, 1, 1, 0, 1, 1, 1, 1, 0, 1, 1,\n",
       "        1, 1, 1, 1, 1, 1, 1, 1, 1, 1, 1, 0, 1, 0, 0, 1, 1, 1, 1, 1, 1, 0, 1, 1,\n",
       "        1, 0, 1, 0, 1, 1, 1, 0, 0, 0, 1, 1, 1, 1, 0, 1, 0, 1, 1, 1, 1, 1, 1, 0,\n",
       "        1, 1, 0, 1, 0, 1, 0, 1, 1, 0, 1, 1, 0, 0, 0, 1, 0, 1, 1, 1, 1, 1, 1, 1,\n",
       "        1, 0, 1, 1, 0, 1, 1, 0, 0, 0, 1, 1, 0, 1, 1, 1, 0, 0, 1, 1, 1, 0, 1, 1,\n",
       "        1, 1, 1, 1, 1, 1, 0, 1, 1, 1, 1, 1, 1, 1, 1, 1, 1, 1, 0, 0, 0, 1, 1, 1,\n",
       "        1, 1, 1, 0, 1, 1, 1, 0, 1, 1, 1, 1, 1, 1, 1, 1, 1, 0, 1, 1, 0, 1, 1, 1,\n",
       "        0, 1, 1, 1, 1, 1, 1, 1, 1, 1, 1, 0, 1, 1, 1, 1, 1, 1, 1, 1, 1, 1, 1, 0,\n",
       "        1, 1, 1, 0, 1, 0, 0, 1, 0, 1, 0, 1, 1, 1, 1, 1, 1, 0, 1, 1, 0, 0, 1, 1,\n",
       "        1, 1, 1, 1, 1, 1, 1, 0, 0, 1, 0, 0, 1, 1, 1, 1, 1, 1, 1, 0, 1, 0, 1, 1,\n",
       "        1, 1, 0, 0, 0, 1, 1, 1, 1, 1, 1, 0, 1, 0, 1, 1, 0, 1, 0, 1, 1, 1, 0, 0,\n",
       "        1, 1, 1, 0, 0, 0, 0, 1, 1, 1, 1, 1, 1, 0, 1, 1, 1, 0, 1, 1, 1, 1, 1, 1,\n",
       "        1, 0, 1, 1, 1, 1, 1, 0, 1, 1, 1, 1, 1, 0, 0, 0, 0, 0, 1, 0, 1, 1, 1, 1,\n",
       "        1, 1, 1, 1, 1, 1, 1, 1, 1, 0, 1, 1, 1, 1, 1, 0, 1, 0, 0, 0, 1, 1, 1, 1,\n",
       "        0, 1, 1, 1, 0, 1, 0, 1, 1, 1, 0, 0, 1, 1, 1, 1, 1, 0, 1, 0, 0, 1, 1, 1,\n",
       "        1, 1, 0, 0, 0, 1, 1, 0, 1, 1, 1, 1, 1, 1, 0, 1, 0, 0, 0, 0, 1, 0, 0, 1,\n",
       "        1, 1, 1, 1, 0, 1, 0, 1, 1, 1, 1, 1, 1, 1, 0, 1, 1, 1, 1, 1, 1, 0, 1, 0,\n",
       "        0, 1, 1, 0, 1, 1, 1, 1, 0, 1, 1, 0, 1, 1, 0, 1, 1, 1, 1, 0, 1, 0, 1, 1,\n",
       "        1, 1, 1, 1, 1, 1, 0, 0, 1, 0, 1, 1, 1, 1, 1, 1, 0, 1, 0, 0, 0, 1, 1, 0,\n",
       "        0, 1, 0, 1, 1, 0, 1, 0, 0, 1, 1, 1, 1, 1, 1, 1, 1, 1, 1, 1, 1, 0, 0, 1,\n",
       "        1, 1, 1, 1, 1, 1, 0, 1, 1, 1, 1, 1, 0, 0, 0, 1, 1, 1, 1, 0, 1, 0, 1, 1,\n",
       "        1, 0, 1, 0, 1, 1, 1, 1, 1, 0, 0, 0, 0, 1, 1, 1, 1, 1, 1, 1, 1, 1, 1, 0,\n",
       "        0, 0, 1, 1, 1, 0, 0, 0, 1, 1, 0, 0, 1, 0, 0, 1, 1, 1, 1, 0, 0, 0, 0, 0,\n",
       "        0, 1, 0, 1, 1, 1, 1, 1, 1, 1, 1, 1, 1, 1, 1, 0, 1, 0, 1, 0, 0, 0, 1, 0,\n",
       "        0, 0, 1, 1, 1, 1, 0, 1, 1, 1, 0, 1, 1, 1, 1, 1, 0, 0, 1, 0, 1, 1, 0, 0,\n",
       "        1, 1, 1, 1, 1, 1, 1, 1, 1, 1, 0, 1, 0, 1, 1, 0, 0, 1, 1, 1, 1, 0, 1, 0,\n",
       "        0, 1, 1, 1, 1, 1, 1, 1, 1, 1, 1, 0, 0, 1, 0, 0, 0, 1, 1, 1, 1, 1, 1, 1,\n",
       "        0, 1, 1, 1, 1, 1, 0, 1, 1, 1, 1, 1, 1, 1, 1, 0, 0, 1, 0, 1, 1, 1, 1, 1,\n",
       "        1, 0, 0, 1, 1, 0, 0, 0, 0, 1, 1, 1, 1, 0, 0, 0, 0, 0, 1, 0, 0, 0, 1, 1,\n",
       "        1, 1, 1, 0, 1, 0, 1, 1, 0, 1, 1, 1, 1, 1, 1, 1, 0, 1, 1, 1, 1, 0, 1, 1,\n",
       "        1, 0, 0, 1, 0, 0, 1, 0, 0, 1, 1, 1, 0, 1])"
      ]
     },
     "execution_count": 8,
     "metadata": {},
     "output_type": "execute_result"
    }
   ],
   "source": [
    "citeseer_graph.y"
   ]
  },
  {
   "cell_type": "code",
   "execution_count": 9,
   "id": "576ade26",
   "metadata": {},
   "outputs": [
    {
     "name": "stdout",
     "output_type": "stream",
     "text": [
      "Number of nodes: 854\n",
      "Number of edges: 1320\n",
      "Average node degree: 1.55\n",
      "Has isolated nodes: True\n",
      "Has self-loops: False\n",
      "Is undirected: True\n"
     ]
    }
   ],
   "source": [
    "print(f'Number of nodes: {citeseer_graph.num_nodes}')\n",
    "print(f'Number of edges: {citeseer_graph.num_edges}')\n",
    "print(f'Average node degree: {citeseer_graph.num_edges / citeseer_graph.num_nodes:.2f}')\n",
    "print(f'Has isolated nodes: {citeseer_graph.has_isolated_nodes()}')\n",
    "print(f'Has self-loops: {citeseer_graph.has_self_loops()}')\n",
    "print(f'Is undirected: {citeseer_graph.is_undirected()}')"
   ]
  },
  {
   "cell_type": "code",
   "execution_count": 10,
   "id": "1e6691ec",
   "metadata": {},
   "outputs": [],
   "source": [
    "import torch.nn as nn\n",
    "import torch.nn.functional as F\n",
    "\n",
    "class MLP(nn.Module):\n",
    "    def __init__(self, input_channels, hidden_channels, output_channels):\n",
    "        super().__init__()\n",
    "\n",
    "        layers = []\n",
    "        in_channels = input_channels\n",
    "\n",
    "        for hidden_units in hidden_channels:\n",
    "            layers.append(nn.Linear(in_features=in_channels, out_features=hidden_units))\n",
    "            layers.append(nn.ReLU())\n",
    "            in_channels = hidden_units\n",
    "\n",
    "        layers.append(nn.Linear(in_features=in_channels, out_features=output_channels))\n",
    "        self.layers = nn.Sequential(*layers)\n",
    "\n",
    "    def forward(self, data):\n",
    "         # only using node features (x)\n",
    "        x = data.x \n",
    "\n",
    "        output = self.layers(x)\n",
    "\n",
    "        return output\n",
    "    \n",
    "    def predict_proba(self, data):\n",
    "        # forward Method: Computes the raw logits (unscaled scores) for each class.\n",
    "        # predict_proba Method: Applies the softmax function to the logits to convert them into probabilities.\n",
    "\n",
    "        # Apply softmax to get probabilities\n",
    "        logits = self.forward(data)\n",
    "        probabilities = F.softmax(logits, dim=1)\n",
    "        return probabilities\n",
    "    "
   ]
  },
  {
   "cell_type": "code",
   "execution_count": 11,
   "id": "ea937ac9",
   "metadata": {},
   "outputs": [],
   "source": [
    "device = torch.device(\"cuda\" if torch.cuda.is_available() else \"cpu\")\n",
    "\n",
    "citeseer_graph = filtered_citeseer_dataset.to(device)\n",
    "\n",
    "input_channels = filtered_citeseer_dataset.num_features\n",
    "\n",
    "hidden_channels = [16]\n",
    "#hidden_channels = [16, 32, 16]  # Three hidden layers with 16, 32, and 16 neurons respectively.\n",
    "\n",
    "output_channels = 2"
   ]
  },
  {
   "cell_type": "code",
   "execution_count": 12,
   "id": "08d9a7e7",
   "metadata": {},
   "outputs": [
    {
     "name": "stdout",
     "output_type": "stream",
     "text": [
      "MLP(\n",
      "  (layers): Sequential(\n",
      "    (0): Linear(in_features=3703, out_features=16, bias=True)\n",
      "    (1): ReLU()\n",
      "    (2): Linear(in_features=16, out_features=2, bias=True)\n",
      "  )\n",
      ")\n"
     ]
    }
   ],
   "source": [
    "model = MLP(\n",
    "    input_channels = input_channels, \n",
    "    hidden_channels = hidden_channels, \n",
    "    output_channels = output_channels).to(device)\n",
    "\n",
    "print(model)"
   ]
  },
  {
   "cell_type": "code",
   "execution_count": 13,
   "id": "953fbc7c",
   "metadata": {},
   "outputs": [
    {
     "name": "stdout",
     "output_type": "stream",
     "text": [
      "Number of parameters:  59298\n"
     ]
    }
   ],
   "source": [
    "print(\"Number of parameters: \", sum(p.numel() for p in model.parameters()))\n",
    "\n",
    "optimizer = torch.optim.Adam(model.parameters(), lr = 0.01, weight_decay = 5e-4)\n",
    "\n",
    "criterion = nn.CrossEntropyLoss()"
   ]
  },
  {
   "cell_type": "code",
   "execution_count": 14,
   "id": "9288fad1",
   "metadata": {},
   "outputs": [
    {
     "name": "stdout",
     "output_type": "stream",
     "text": [
      "Epoch: 010,                Train Loss: 0.647,                Train Acc: 0.684 Val Acc: 0.667\n",
      "Epoch: 020,                Train Loss: 0.572,                Train Acc: 0.684 Val Acc: 0.667\n",
      "Epoch: 030,                Train Loss: 0.536,                Train Acc: 0.684 Val Acc: 0.667\n"
     ]
    },
    {
     "name": "stdout",
     "output_type": "stream",
     "text": [
      "Epoch: 040,                Train Loss: 0.497,                Train Acc: 0.684 Val Acc: 0.667\n",
      "Epoch: 050,                Train Loss: 0.447,                Train Acc: 0.752 Val Acc: 0.661\n",
      "Epoch: 060,                Train Loss: 0.406,                Train Acc: 0.828 Val Acc: 0.684\n",
      "Epoch: 070,                Train Loss: 0.371,                Train Acc: 0.869 Val Acc: 0.708\n",
      "Epoch: 080,                Train Loss: 0.340,                Train Acc: 0.906 Val Acc: 0.713\n",
      "Epoch: 090,                Train Loss: 0.312,                Train Acc: 0.934 Val Acc: 0.713\n",
      "Epoch: 100,                Train Loss: 0.288,                Train Acc: 0.947 Val Acc: 0.743\n",
      "Epoch: 110,                Train Loss: 0.266,                Train Acc: 0.973 Val Acc: 0.760\n",
      "Epoch: 120,                Train Loss: 0.246,                Train Acc: 0.977 Val Acc: 0.772\n",
      "Epoch: 130,                Train Loss: 0.229,                Train Acc: 0.988 Val Acc: 0.778\n",
      "Epoch: 140,                Train Loss: 0.214,                Train Acc: 0.994 Val Acc: 0.795\n",
      "Epoch: 150,                Train Loss: 0.200,                Train Acc: 0.994 Val Acc: 0.801\n",
      "Epoch: 160,                Train Loss: 0.188,                Train Acc: 0.994 Val Acc: 0.807\n",
      "Epoch: 170,                Train Loss: 0.178,                Train Acc: 0.994 Val Acc: 0.807\n",
      "Epoch: 180,                Train Loss: 0.168,                Train Acc: 0.996 Val Acc: 0.813\n",
      "Epoch: 190,                Train Loss: 0.160,                Train Acc: 0.996 Val Acc: 0.819\n",
      "Epoch: 200,                Train Loss: 0.152,                Train Acc: 1.000 Val Acc: 0.819\n"
     ]
    }
   ],
   "source": [
    "num_epochs = 200\n",
    "\n",
    "for epoch in range(num_epochs):\n",
    "\n",
    "    model.train()\n",
    "    optimizer.zero_grad()\n",
    "    out = model(citeseer_graph)\n",
    "\n",
    "    loss = criterion(out[citeseer_graph.train_mask], citeseer_graph.y[citeseer_graph.train_mask])\n",
    "    loss.backward()\n",
    "\n",
    "    optimizer.step()\n",
    "\n",
    "    # Get predictions on the training data\n",
    "    pred_train = out.argmax(dim = 1)\n",
    "    \n",
    "    correct_train = (\n",
    "        pred_train[citeseer_graph.train_mask] == citeseer_graph.y[citeseer_graph.train_mask]\n",
    "    ).sum()\n",
    "    \n",
    "    acc_train = int(correct_train) / int(citeseer_graph.train_mask.sum())\n",
    "    \n",
    "    # Get predictions on validation data\n",
    "    model.eval()\n",
    "\n",
    "    pred_val = model(citeseer_graph).argmax(dim = 1)\n",
    "    \n",
    "    correct_val = (\n",
    "        pred_val[citeseer_graph.val_mask] == citeseer_graph.y[citeseer_graph.val_mask]\n",
    "    ).sum()\n",
    "    \n",
    "    acc_val = int(correct_val) / int(citeseer_graph.val_mask.sum())\n",
    "\n",
    "    if (epoch + 1) % 10 == 0:\n",
    "        print(f'Epoch: {epoch + 1:03d}, \\\n",
    "               Train Loss: {loss:.3f}, \\\n",
    "               Train Acc: {acc_train:.3f} Val Acc: {acc_val:.3f}')"
   ]
  },
  {
   "cell_type": "code",
   "execution_count": 15,
   "id": "68ad48c0",
   "metadata": {},
   "outputs": [
    {
     "data": {
      "text/plain": [
       "0.783625730994152"
      ]
     },
     "execution_count": 15,
     "metadata": {},
     "output_type": "execute_result"
    }
   ],
   "source": [
    "model.eval()\n",
    "\n",
    "pred = model(citeseer_graph).argmax(dim = 1)\n",
    "\n",
    "correct = (pred[citeseer_graph.test_mask] == citeseer_graph.y[citeseer_graph.test_mask]).sum()\n",
    "\n",
    "test_acc = int(correct) / int(citeseer_graph.test_mask.sum())\n",
    "\n",
    "test_acc"
   ]
  },
  {
   "cell_type": "code",
   "execution_count": 16,
   "id": "f80819d7",
   "metadata": {},
   "outputs": [],
   "source": [
    "# plot ROC curve\n",
    "import numpy as np\n",
    "import matplotlib.pyplot as plt\n",
    "from sklearn.metrics import roc_curve, auc"
   ]
  },
  {
   "cell_type": "code",
   "execution_count": 17,
   "id": "17ab3102",
   "metadata": {},
   "outputs": [
    {
     "data": {
      "text/plain": [
       "Data(x=[171, 3703], y=[171], edge_index=[2, 1320], train_mask=[854], val_mask=[854], test_mask=[854])"
      ]
     },
     "execution_count": 17,
     "metadata": {},
     "output_type": "execute_result"
    }
   ],
   "source": [
    "#X_test = citeseer_graph\n",
    "\n",
    "#test_data = citeseer_graph[citeseer_graph.test_mask].clone()\n",
    "test_data = citeseer_graph.clone()\n",
    "test_data.x = citeseer_graph.x[citeseer_graph.test_mask]\n",
    "test_data.y = citeseer_graph.y[citeseer_graph.test_mask]\n",
    "\n",
    "test_data"
   ]
  },
  {
   "cell_type": "code",
   "execution_count": 18,
   "id": "d0670672",
   "metadata": {},
   "outputs": [
    {
     "name": "stdout",
     "output_type": "stream",
     "text": [
      "AUC: 0.793\n"
     ]
    },
    {
     "data": {
      "image/png": "[encoded data removed]",
      "text/plain": [
       "<Figure size 500x400 with 1 Axes>"
      ]
     },
     "metadata": {},
     "output_type": "display_data"
    }
   ],
   "source": [
    "# Predict probabilities for the positive class\n",
    "y_scores = model.predict_proba(test_data)[:, 1]\n",
    "y_true = citeseer_graph.y[citeseer_graph.test_mask]\n",
    "\n",
    "y_scores_array = y_scores.detach().numpy()\n",
    "y_true_array = y_true.detach().numpy()\n",
    "\n",
    "# plot ROC curve for the model\n",
    "def plot_roc_curve(y_true, y_scores):\n",
    "    fpr, tpr, thresholds = roc_curve(y_true, y_scores)\n",
    "    roc_auc = auc(fpr, tpr)\n",
    "\n",
    "    #print(fpr)  \n",
    "    #rint(tpr)\n",
    "    \n",
    "    plt.figure(figsize=(5, 4))\n",
    "    plt.plot(fpr, tpr, color='blue', label='ROC curve (area = {:.3f})'.format(roc_auc))\n",
    "    plt.plot([0, 1], [0, 1], color='red', linestyle='--', label='Random Guess')\n",
    "    plt.xlim([0.0, 1.0])\n",
    "    # add labels and title\n",
    "    plt.xlabel('False Positive Rate')\n",
    "    plt.ylabel('True Positive Rate')\n",
    "    plt.title('MLP Receiver Operating Characteristic (ROC)')\n",
    "\n",
    "    # add AUC value to the plot\n",
    "    plt.text(0.5, 0.2, 'AUC = {:.3f}'.format(roc_auc), fontsize=12, color='blue')\n",
    "    plt.legend(loc='lower right')\n",
    "\n",
    "    # print the AUC value\n",
    "    print(f'AUC: {roc_auc:.3f}')\n",
    "\n",
    "    plt.grid()\n",
    "    \n",
    "plot_roc_curve(y_true_array,y_scores_array)"
   ]
  },
  {
   "cell_type": "code",
   "execution_count": 19,
   "id": "10f0da1f",
   "metadata": {},
   "outputs": [],
   "source": [
    "#pip install seaborn"
   ]
  },
  {
   "cell_type": "code",
   "execution_count": 20,
   "id": "9937adc0",
   "metadata": {},
   "outputs": [
    {
     "data": {
      "image/png": "[encoded data removed]",
      "text/plain": [
       "<Figure size 800x600 with 1 Axes>"
      ]
     },
     "metadata": {},
     "output_type": "display_data"
    }
   ],
   "source": [
    "import numpy as np\n",
    "import pandas as pd\n",
    "import seaborn as sns\n",
    "import matplotlib.pyplot as plt\n",
    "from sklearn.metrics import confusion_matrix\n",
    "\n",
    "# Define the threshold for the positive class\n",
    "threshold = 0.5\n",
    "\n",
    "# Get probabilities for the positive class (y_scores is a tensor)\n",
    "y_scores = model.predict_proba(test_data)[:, 1]\n",
    "# Convert predicted probabilities tensor to numpy array after applying threshold\n",
    "y_pred = (y_scores >= threshold).cpu().numpy().astype(int)\n",
    "\n",
    "# Get true labels as a numpy array\n",
    "y_true = test_data.y.cpu().numpy()\n",
    "\n",
    "# Compute the confusion matrix\n",
    "cm = confusion_matrix(y_true, y_pred)\n",
    "\n",
    "# Create a DataFrame for better visualization\n",
    "cm_df = pd.DataFrame(cm, index=[0, 1], columns=[0, 1])\n",
    "cm_df.index.name = 'True Label'\n",
    "cm_df.columns.name = 'Predicted Label'\n",
    "cm_df = cm_df.rename(index={0: 'Class 0', 1: 'Class 1'},\n",
    "                     columns={0: 'Class 0', 1: 'Class 1'})\n",
    "\n",
    "# Plot the confusion matrix using seaborn\n",
    "plt.figure(figsize=(8, 6))\n",
    "sns.heatmap(cm_df, annot=True, fmt='d', cmap='Blues', cbar=False, square=True, \n",
    "            linewidths=0.2, linecolor=\"black\")\n",
    "plt.title(f'MLP Confusion Matrix (Threshold = {threshold})')\n",
    "plt.xlabel('Predicted Label')\n",
    "plt.ylabel('True Label')\n",
    "plt.xticks(rotation=0)\n",
    "plt.yticks(rotation=0)\n",
    "plt.show()"
   ]
  }
 ],
 "metadata": {
  "kernelspec": {
   "display_name": ".venv",
   "language": "python",
   "name": "python3"
  },
  "language_info": {
   "codemirror_mode": {
    "name": "ipython",
    "version": 3
   },
   "file_extension": ".py",
   "mimetype": "text/x-python",
   "name": "python",
   "nbconvert_exporter": "python",
   "pygments_lexer": "ipython3",
   "version": "3.11.7"
  }
 },
 "nbformat": 4,
 "nbformat_minor": 5
}
