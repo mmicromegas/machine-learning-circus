{
 "cells": [
  {
   "cell_type": "code",
   "execution_count": 111,
   "id": "f31c400f",
   "metadata": {},
   "outputs": [],
   "source": [
    "import torch\n",
    "import random\n",
    "import matplotlib.pyplot as plt"
   ]
  },
  {
   "cell_type": "code",
   "execution_count": 112,
   "id": "21a2cb58",
   "metadata": {},
   "outputs": [],
   "source": [
    "from torch_geometric.datasets import Planetoid\n",
    "from torch_geometric.transforms import NormalizeFeatures\n",
    "from torch_geometric.utils import subgraph\n",
    "\n",
    "citeseer_dataset = Planetoid(root = \"Citeseer_dataset\", name = \"Citeseer\", transform = NormalizeFeatures())"
   ]
  },
  {
   "cell_type": "code",
   "execution_count": 113,
   "id": "92410e83",
   "metadata": {},
   "outputs": [],
   "source": [
    "data = citeseer_dataset[0]\n",
    "\n",
    "# Create a mask for nodes whose label is either 0 or 1\n",
    "mask = (data.y == 0) | (data.y == 1)\n",
    "filtered_node_indices = mask.nonzero(as_tuple=False).view(-1)\n",
    "\n",
    "# Extract the subgraph that contains only the filtered nodes. \n",
    "# The parameter relabel_nodes=True updates node indices accordingly.\n",
    "edge_index, edge_attr = subgraph(filtered_node_indices, data.edge_index, relabel_nodes=True, num_nodes=data.num_nodes)\n",
    "\n",
    "# Create a new data object for the filtered graph\n",
    "filtered_data = data.__class__()\n",
    "filtered_data.x = data.x[filtered_node_indices]\n",
    "filtered_data.y = data.y[filtered_node_indices]\n",
    "filtered_data.edge_index = edge_index\n",
    "if hasattr(data, 'edge_attr') and data.edge_attr is not None:\n",
    "    filtered_data.edge_attr = edge_attr\n",
    "\n",
    "num_nodes = filtered_data.num_nodes\n",
    "torch.manual_seed(42)\n",
    "indices = torch.randperm(num_nodes)\n",
    "\n",
    "train_end = int(0.6 * num_nodes)\n",
    "val_end = int(0.8 * num_nodes)\n",
    "\n",
    "train_mask = torch.zeros(num_nodes, dtype=torch.bool)\n",
    "val_mask = torch.zeros(num_nodes, dtype=torch.bool)\n",
    "test_mask = torch.zeros(num_nodes, dtype=torch.bool)\n",
    "\n",
    "train_mask[indices[:train_end]] = True\n",
    "val_mask[indices[train_end:val_end]] = True\n",
    "test_mask[indices[val_end:]] = True\n",
    "\n",
    "filtered_data.train_mask = train_mask\n",
    "filtered_data.val_mask = val_mask\n",
    "filtered_data.test_mask = test_mask\n",
    "\n",
    "filtered_citeseer_dataset = filtered_data\n"
   ]
  },
  {
   "cell_type": "code",
   "execution_count": 114,
   "id": "02c3c314",
   "metadata": {},
   "outputs": [
    {
     "name": "stdout",
     "output_type": "stream",
     "text": [
      "6\n",
      "3703\n"
     ]
    },
    {
     "data": {
      "text/plain": [
       "Data(x=[854, 3703], y=[854], edge_index=[2, 1320], train_mask=[854], val_mask=[854], test_mask=[854])"
      ]
     },
     "execution_count": 114,
     "metadata": {},
     "output_type": "execute_result"
    }
   ],
   "source": [
    "print(len(filtered_citeseer_dataset))\n",
    "#print(filtered_citeseer_dataset.num_classes)\n",
    "print(filtered_citeseer_dataset.num_features)\n",
    "citeseer_graph = filtered_citeseer_dataset\n",
    "citeseer_graph"
   ]
  },
  {
   "cell_type": "code",
   "execution_count": 115,
   "id": "b8f640dc",
   "metadata": {},
   "outputs": [
    {
     "data": {
      "text/plain": [
       "tensor([[0., 0., 0.,  ..., 0., 0., 0.],\n",
       "        [0., 0., 0.,  ..., 0., 0., 0.],\n",
       "        [0., 0., 0.,  ..., 0., 0., 0.],\n",
       "        ...,\n",
       "        [0., 0., 0.,  ..., 0., 0., 0.],\n",
       "        [0., 0., 0.,  ..., 0., 0., 0.],\n",
       "        [0., 0., 0.,  ..., 0., 0., 0.]])"
      ]
     },
     "execution_count": 115,
     "metadata": {},
     "output_type": "execute_result"
    }
   ],
   "source": [
    "citeseer_graph.x"
   ]
  },
  {
   "cell_type": "code",
   "execution_count": 116,
   "id": "e8b5a58a",
   "metadata": {},
   "outputs": [
    {
     "name": "stdout",
     "output_type": "stream",
     "text": [
      "Training samples:  512\n",
      "Validation samples:  171\n",
      "Test samples:  171\n"
     ]
    }
   ],
   "source": [
    "print(\"Training samples: \", citeseer_graph.train_mask.sum().item())\n",
    "print(\"Validation samples: \", citeseer_graph.val_mask.sum().item())\n",
    "print(\"Test samples: \", citeseer_graph.test_mask.sum().item())"
   ]
  },
  {
   "cell_type": "code",
   "execution_count": 117,
   "id": "d16cfc59",
   "metadata": {},
   "outputs": [
    {
     "data": {
      "text/plain": [
       "tensor([1, 1, 0, 1, 0, 1, 1, 1, 1, 1, 1, 1, 1, 1, 1, 0, 0, 1, 1, 0, 1, 1, 0, 1,\n",
       "        1, 1, 0, 0, 0, 0, 0, 0, 0, 0, 0, 0, 0, 0, 0, 0, 1, 0, 0, 0, 1, 1, 1, 1,\n",
       "        1, 1, 1, 1, 0, 0, 0, 0, 1, 1, 1, 1, 1, 1, 1, 1, 1, 1, 1, 0, 1, 0, 0, 0,\n",
       "        1, 1, 1, 0, 1, 1, 1, 1, 1, 1, 1, 1, 1, 0, 1, 1, 0, 1, 0, 1, 1, 1, 0, 1,\n",
       "        1, 1, 0, 1, 0, 1, 0, 1, 1, 1, 1, 1, 1, 0, 1, 0, 0, 1, 1, 0, 1, 1, 0, 0,\n",
       "        0, 1, 0, 1, 1, 1, 1, 1, 1, 1, 1, 1, 1, 1, 1, 1, 0, 1, 1, 1, 1, 0, 1, 1,\n",
       "        1, 1, 1, 1, 1, 1, 1, 1, 1, 1, 1, 0, 1, 0, 0, 1, 1, 1, 1, 1, 1, 0, 1, 1,\n",
       "        1, 0, 1, 0, 1, 1, 1, 0, 0, 0, 1, 1, 1, 1, 0, 1, 0, 1, 1, 1, 1, 1, 1, 0,\n",
       "        1, 1, 0, 1, 0, 1, 0, 1, 1, 0, 1, 1, 0, 0, 0, 1, 0, 1, 1, 1, 1, 1, 1, 1,\n",
       "        1, 0, 1, 1, 0, 1, 1, 0, 0, 0, 1, 1, 0, 1, 1, 1, 0, 0, 1, 1, 1, 0, 1, 1,\n",
       "        1, 1, 1, 1, 1, 1, 0, 1, 1, 1, 1, 1, 1, 1, 1, 1, 1, 1, 0, 0, 0, 1, 1, 1,\n",
       "        1, 1, 1, 0, 1, 1, 1, 0, 1, 1, 1, 1, 1, 1, 1, 1, 1, 0, 1, 1, 0, 1, 1, 1,\n",
       "        0, 1, 1, 1, 1, 1, 1, 1, 1, 1, 1, 0, 1, 1, 1, 1, 1, 1, 1, 1, 1, 1, 1, 0,\n",
       "        1, 1, 1, 0, 1, 0, 0, 1, 0, 1, 0, 1, 1, 1, 1, 1, 1, 0, 1, 1, 0, 0, 1, 1,\n",
       "        1, 1, 1, 1, 1, 1, 1, 0, 0, 1, 0, 0, 1, 1, 1, 1, 1, 1, 1, 0, 1, 0, 1, 1,\n",
       "        1, 1, 0, 0, 0, 1, 1, 1, 1, 1, 1, 0, 1, 0, 1, 1, 0, 1, 0, 1, 1, 1, 0, 0,\n",
       "        1, 1, 1, 0, 0, 0, 0, 1, 1, 1, 1, 1, 1, 0, 1, 1, 1, 0, 1, 1, 1, 1, 1, 1,\n",
       "        1, 0, 1, 1, 1, 1, 1, 0, 1, 1, 1, 1, 1, 0, 0, 0, 0, 0, 1, 0, 1, 1, 1, 1,\n",
       "        1, 1, 1, 1, 1, 1, 1, 1, 1, 0, 1, 1, 1, 1, 1, 0, 1, 0, 0, 0, 1, 1, 1, 1,\n",
       "        0, 1, 1, 1, 0, 1, 0, 1, 1, 1, 0, 0, 1, 1, 1, 1, 1, 0, 1, 0, 0, 1, 1, 1,\n",
       "        1, 1, 0, 0, 0, 1, 1, 0, 1, 1, 1, 1, 1, 1, 0, 1, 0, 0, 0, 0, 1, 0, 0, 1,\n",
       "        1, 1, 1, 1, 0, 1, 0, 1, 1, 1, 1, 1, 1, 1, 0, 1, 1, 1, 1, 1, 1, 0, 1, 0,\n",
       "        0, 1, 1, 0, 1, 1, 1, 1, 0, 1, 1, 0, 1, 1, 0, 1, 1, 1, 1, 0, 1, 0, 1, 1,\n",
       "        1, 1, 1, 1, 1, 1, 0, 0, 1, 0, 1, 1, 1, 1, 1, 1, 0, 1, 0, 0, 0, 1, 1, 0,\n",
       "        0, 1, 0, 1, 1, 0, 1, 0, 0, 1, 1, 1, 1, 1, 1, 1, 1, 1, 1, 1, 1, 0, 0, 1,\n",
       "        1, 1, 1, 1, 1, 1, 0, 1, 1, 1, 1, 1, 0, 0, 0, 1, 1, 1, 1, 0, 1, 0, 1, 1,\n",
       "        1, 0, 1, 0, 1, 1, 1, 1, 1, 0, 0, 0, 0, 1, 1, 1, 1, 1, 1, 1, 1, 1, 1, 0,\n",
       "        0, 0, 1, 1, 1, 0, 0, 0, 1, 1, 0, 0, 1, 0, 0, 1, 1, 1, 1, 0, 0, 0, 0, 0,\n",
       "        0, 1, 0, 1, 1, 1, 1, 1, 1, 1, 1, 1, 1, 1, 1, 0, 1, 0, 1, 0, 0, 0, 1, 0,\n",
       "        0, 0, 1, 1, 1, 1, 0, 1, 1, 1, 0, 1, 1, 1, 1, 1, 0, 0, 1, 0, 1, 1, 0, 0,\n",
       "        1, 1, 1, 1, 1, 1, 1, 1, 1, 1, 0, 1, 0, 1, 1, 0, 0, 1, 1, 1, 1, 0, 1, 0,\n",
       "        0, 1, 1, 1, 1, 1, 1, 1, 1, 1, 1, 0, 0, 1, 0, 0, 0, 1, 1, 1, 1, 1, 1, 1,\n",
       "        0, 1, 1, 1, 1, 1, 0, 1, 1, 1, 1, 1, 1, 1, 1, 0, 0, 1, 0, 1, 1, 1, 1, 1,\n",
       "        1, 0, 0, 1, 1, 0, 0, 0, 0, 1, 1, 1, 1, 0, 0, 0, 0, 0, 1, 0, 0, 0, 1, 1,\n",
       "        1, 1, 1, 0, 1, 0, 1, 1, 0, 1, 1, 1, 1, 1, 1, 1, 0, 1, 1, 1, 1, 0, 1, 1,\n",
       "        1, 0, 0, 1, 0, 0, 1, 0, 0, 1, 1, 1, 0, 1])"
      ]
     },
     "execution_count": 117,
     "metadata": {},
     "output_type": "execute_result"
    }
   ],
   "source": [
    "citeseer_graph.y"
   ]
  },
  {
   "cell_type": "code",
   "execution_count": 118,
   "id": "87407600",
   "metadata": {},
   "outputs": [
    {
     "name": "stdout",
     "output_type": "stream",
     "text": [
      "Number of nodes: 854\n",
      "Number of edges: 1320\n",
      "Average node degree: 1.55\n",
      "Has isolated nodes: True\n",
      "Has self-loops: False\n",
      "Is undirected: True\n"
     ]
    }
   ],
   "source": [
    "print(f'Number of nodes: {citeseer_graph.num_nodes}')\n",
    "print(f'Number of edges: {citeseer_graph.num_edges}')\n",
    "print(f'Average node degree: {citeseer_graph.num_edges / citeseer_graph.num_nodes:.2f}')\n",
    "print(f'Has isolated nodes: {citeseer_graph.has_isolated_nodes()}')\n",
    "print(f'Has self-loops: {citeseer_graph.has_self_loops()}')\n",
    "print(f'Is undirected: {citeseer_graph.is_undirected()}')"
   ]
  },
  {
   "cell_type": "code",
   "execution_count": 119,
   "id": "1d01c744",
   "metadata": {},
   "outputs": [],
   "source": [
    "import torch.nn.functional as F\n",
    "from torch_geometric.nn import GCNConv\n",
    "\n",
    "class GCN(torch.nn.Module):\n",
    "    def __init__(self, input_channels, hidden_channels, output_channels):\n",
    "        super().__init__()\n",
    "        \n",
    "        self.conv1 = GCNConv(in_channels = input_channels, out_channels = hidden_channels)\n",
    "        self.conv2 = GCNConv(in_channels = hidden_channels, out_channels = output_channels)\n",
    "\n",
    "    def forward(self, data):\n",
    "        x, edge_index = data.x, data.edge_index\n",
    "        \n",
    "        x = self.conv1(x, edge_index)\n",
    "        x = F.relu(x)\n",
    "        \n",
    "        x = F.dropout(x, training = self.training)\n",
    "\n",
    "        x = self.conv2(x, edge_index)\n",
    "\n",
    "        return F.log_softmax(x, dim = 1)\n",
    "    \n",
    "\n",
    "    def predict_proba(self, data):\n",
    "        # forward Method: Computes the raw logits (unscaled scores) for each class.\n",
    "        # predict_proba Method: Applies the softmax function to the logits to convert them into probabilities.\n",
    "\n",
    "        # Apply softmax to get probabilities\n",
    "        logits = self.forward(data)\n",
    "        probabilities = F.softmax(logits, dim=1)\n",
    "        return probabilities"
   ]
  },
  {
   "cell_type": "code",
   "execution_count": 120,
   "id": "633227c4",
   "metadata": {},
   "outputs": [],
   "source": [
    "device = torch.device(\"cuda\" if torch.cuda.is_available() else \"cpu\")\n",
    "\n",
    "citeseer_graph = filtered_citeseer_dataset.to(device)\n",
    "\n",
    "input_channels = filtered_citeseer_dataset.num_features\n",
    "\n",
    "hidden_channels = 32\n",
    "\n",
    "output_channels = 2"
   ]
  },
  {
   "cell_type": "code",
   "execution_count": 121,
   "id": "909dc245",
   "metadata": {},
   "outputs": [
    {
     "name": "stdout",
     "output_type": "stream",
     "text": [
      "GCN(\n",
      "  (conv1): GCNConv(3703, 32)\n",
      "  (conv2): GCNConv(32, 2)\n",
      ")\n"
     ]
    }
   ],
   "source": [
    "model = GCN(\n",
    "    input_channels = input_channels, \n",
    "    hidden_channels = hidden_channels, \n",
    "    output_channels = output_channels).to(device)\n",
    "\n",
    "print(model)"
   ]
  },
  {
   "cell_type": "code",
   "execution_count": 122,
   "id": "01928327",
   "metadata": {},
   "outputs": [
    {
     "name": "stdout",
     "output_type": "stream",
     "text": [
      "Number of parameters:  118594\n"
     ]
    }
   ],
   "source": [
    "print(\"Number of parameters: \", sum(p.numel() for p in model.parameters()))\n",
    "\n",
    "optimizer = torch.optim.Adam(model.parameters(), lr = 0.01, weight_decay = 5e-4)"
   ]
  },
  {
   "cell_type": "code",
   "execution_count": 123,
   "id": "db97ad31",
   "metadata": {},
   "outputs": [
    {
     "name": "stdout",
     "output_type": "stream",
     "text": [
      "Epoch: 010,                Train Loss: 0.587,                Train Acc: 0.684 Val Acc: 0.667\n",
      "Epoch: 020,                Train Loss: 0.530,                Train Acc: 0.684 Val Acc: 0.667\n",
      "Epoch: 030,                Train Loss: 0.484,                Train Acc: 0.684 Val Acc: 0.667\n",
      "Epoch: 040,                Train Loss: 0.441,                Train Acc: 0.684 Val Acc: 0.667\n",
      "Epoch: 050,                Train Loss: 0.406,                Train Acc: 0.807 Val Acc: 0.754\n",
      "Epoch: 060,                Train Loss: 0.377,                Train Acc: 0.877 Val Acc: 0.807\n",
      "Epoch: 070,                Train Loss: 0.347,                Train Acc: 0.908 Val Acc: 0.813\n",
      "Epoch: 080,                Train Loss: 0.330,                Train Acc: 0.916 Val Acc: 0.807\n",
      "Epoch: 090,                Train Loss: 0.303,                Train Acc: 0.930 Val Acc: 0.819\n",
      "Epoch: 100,                Train Loss: 0.286,                Train Acc: 0.938 Val Acc: 0.836\n",
      "Epoch: 110,                Train Loss: 0.267,                Train Acc: 0.938 Val Acc: 0.836\n",
      "Epoch: 120,                Train Loss: 0.257,                Train Acc: 0.939 Val Acc: 0.842\n",
      "Epoch: 130,                Train Loss: 0.249,                Train Acc: 0.932 Val Acc: 0.842\n",
      "Epoch: 140,                Train Loss: 0.239,                Train Acc: 0.939 Val Acc: 0.842\n",
      "Epoch: 150,                Train Loss: 0.227,                Train Acc: 0.939 Val Acc: 0.842\n",
      "Epoch: 160,                Train Loss: 0.226,                Train Acc: 0.945 Val Acc: 0.848\n",
      "Epoch: 170,                Train Loss: 0.213,                Train Acc: 0.941 Val Acc: 0.860\n",
      "Epoch: 180,                Train Loss: 0.211,                Train Acc: 0.947 Val Acc: 0.854\n",
      "Epoch: 190,                Train Loss: 0.207,                Train Acc: 0.943 Val Acc: 0.854\n",
      "Epoch: 200,                Train Loss: 0.209,                Train Acc: 0.939 Val Acc: 0.854\n"
     ]
    }
   ],
   "source": [
    "num_epochs = 200\n",
    "\n",
    "for epoch in range(num_epochs):\n",
    "    \n",
    "    model.train()\n",
    "    \n",
    "    optimizer.zero_grad()\n",
    "    out = model(citeseer_graph)\n",
    "    \n",
    "    loss = F.nll_loss(out[citeseer_graph.train_mask], citeseer_graph.y[citeseer_graph.train_mask])\n",
    "    loss.backward()\n",
    "    \n",
    "    optimizer.step()\n",
    "    \n",
    "    # Get predictions on the training data\n",
    "    pred_train = out.argmax(dim = 1)\n",
    "    \n",
    "    correct_train = (\n",
    "        pred_train[citeseer_graph.train_mask] == citeseer_graph.y[citeseer_graph.train_mask]\n",
    "    ).sum()\n",
    "    \n",
    "    acc_train = int(correct_train) / int(citeseer_graph.train_mask.sum())\n",
    "\n",
    "    # Get predictions on validation data\n",
    "    model.eval()\n",
    "\n",
    "    pred_val = model(citeseer_graph).argmax(dim = 1)\n",
    "    \n",
    "    correct_val = (\n",
    "        pred_val[citeseer_graph.val_mask] == citeseer_graph.y[citeseer_graph.val_mask]\n",
    "    ).sum()\n",
    "    \n",
    "    acc_val = int(correct_val) / int(citeseer_graph.val_mask.sum())\n",
    "\n",
    "    if (epoch + 1) % 10 == 0:\n",
    "        print(f'Epoch: {epoch + 1:03d}, \\\n",
    "               Train Loss: {loss:.3f}, \\\n",
    "               Train Acc: {acc_train:.3f} Val Acc: {acc_val:.3f}')"
   ]
  },
  {
   "cell_type": "code",
   "execution_count": 124,
   "id": "62dd0f64",
   "metadata": {},
   "outputs": [
    {
     "data": {
      "text/plain": [
       "0.8070175438596491"
      ]
     },
     "execution_count": 124,
     "metadata": {},
     "output_type": "execute_result"
    }
   ],
   "source": [
    "model.eval()\n",
    "\n",
    "pred = model(citeseer_graph).argmax(dim = 1)\n",
    "\n",
    "correct = (pred[citeseer_graph.test_mask] == citeseer_graph.y[citeseer_graph.test_mask]).sum()\n",
    "\n",
    "test_acc = int(correct) / int(citeseer_graph.test_mask.sum())\n",
    "\n",
    "test_acc"
   ]
  },
  {
   "cell_type": "code",
   "execution_count": 125,
   "id": "aad0d131",
   "metadata": {},
   "outputs": [],
   "source": [
    "# plot ROC curve\n",
    "import numpy as np\n",
    "import matplotlib.pyplot as plt\n",
    "from sklearn.metrics import roc_curve, auc"
   ]
  },
  {
   "cell_type": "code",
   "execution_count": 126,
   "id": "72a4ef87",
   "metadata": {},
   "outputs": [
    {
     "data": {
      "text/plain": [
       "Data(x=[171, 3703], y=[171], edge_index=[2, 50], num_nodes=171)"
      ]
     },
     "execution_count": 126,
     "metadata": {},
     "output_type": "execute_result"
    }
   ],
   "source": [
    "from torch_geometric.utils import subgraph\n",
    "\n",
    "# Extract test node indices from citeseer_graph\n",
    "test_node_indices = citeseer_graph.test_mask.nonzero(as_tuple=False).view(-1)\n",
    "\n",
    "# Extract a proper subgraph for test nodes with relabeled indices\n",
    "test_edge_index, test_edge_attr = subgraph(test_node_indices, citeseer_graph.edge_index, relabel_nodes=True, num_nodes=citeseer_graph.num_nodes)\n",
    "\n",
    "# Create a new test_data object with the subgraph information\n",
    "test_data = citeseer_graph.__class__()\n",
    "test_data.x = citeseer_graph.x[test_node_indices]\n",
    "test_data.y = citeseer_graph.y[test_node_indices]\n",
    "test_data.edge_index = test_edge_index\n",
    "if hasattr(citeseer_graph, 'edge_attr') and citeseer_graph.edge_attr is not None:\n",
    "    test_data.edge_attr = test_edge_attr\n",
    "\n",
    "# Update num_nodes to match the filtered node features\n",
    "test_data.num_nodes = test_data.x.size(0)\n",
    "test_data"
   ]
  },
  {
   "cell_type": "code",
   "execution_count": 127,
   "id": "4ab6bf11",
   "metadata": {},
   "outputs": [
    {
     "data": {
      "image/png": "[encoded data removed]",
      "text/plain": [
       "<Figure size 500x400 with 1 Axes>"
      ]
     },
     "metadata": {},
     "output_type": "display_data"
    }
   ],
   "source": [
    "# Predict probabilities for the positive class\n",
    "y_scores = model.predict_proba(test_data)[:, 1]\n",
    "y_true = citeseer_graph.y[citeseer_graph.test_mask]\n",
    "\n",
    "y_scores_array = y_scores.detach().numpy()\n",
    "y_true_array = y_true.detach().numpy()\n",
    "\n",
    "# plot ROC curve for the model\n",
    "def plot_roc_curve(y_true, y_scores):\n",
    "    fpr, tpr, thresholds = roc_curve(y_true, y_scores)\n",
    "    roc_auc = auc(fpr, tpr)\n",
    "\n",
    "    #print(fpr)  \n",
    "    #rint(tpr)\n",
    "    \n",
    "    plt.figure(figsize=(5, 4))\n",
    "    plt.plot(fpr, tpr, color='blue', label='ROC curve (area = {:.3f})'.format(roc_auc))\n",
    "    plt.plot([0, 1], [0, 1], color='red', linestyle='--', label='Random Guess')\n",
    "    plt.xlim([0.0, 1.0])\n",
    "    # add labels and title\n",
    "    plt.xlabel('False Positive Rate')\n",
    "    plt.ylabel('True Positive Rate')\n",
    "    plt.title('GCN Receiver Operating Characteristic (ROC)')\n",
    "\n",
    "    # add AUC value to the plot\n",
    "    plt.text(0.5, 0.2, 'AUC = {:.3f}'.format(roc_auc), fontsize=12, color='blue')\n",
    "    plt.legend(loc='lower right')\n",
    "\n",
    "    plt.grid()\n",
    "    \n",
    "plot_roc_curve(y_true_array,y_scores_array)"
   ]
  },
  {
   "cell_type": "code",
   "execution_count": 128,
   "id": "94190295",
   "metadata": {},
   "outputs": [
    {
     "data": {
      "image/png": "[encoded data removed]",
      "text/plain": [
       "<Figure size 800x600 with 1 Axes>"
      ]
     },
     "metadata": {},
     "output_type": "display_data"
    }
   ],
   "source": [
    "import numpy as np\n",
    "import pandas as pd\n",
    "import seaborn as sns\n",
    "import matplotlib.pyplot as plt\n",
    "from sklearn.metrics import confusion_matrix\n",
    "\n",
    "# Define the threshold for the positive class\n",
    "threshold = 0.5\n",
    "\n",
    "# Get probabilities for the positive class (y_scores is a tensor)\n",
    "y_scores = model.predict_proba(test_data)[:, 1]\n",
    "# Convert predicted probabilities tensor to numpy array after applying threshold\n",
    "y_pred = (y_scores >= threshold).cpu().numpy().astype(int)\n",
    "\n",
    "# Get true labels as a numpy array\n",
    "y_true = test_data.y.cpu().numpy()\n",
    "\n",
    "# Compute the confusion matrix\n",
    "cm = confusion_matrix(y_true, y_pred)\n",
    "\n",
    "# Create a DataFrame for better visualization\n",
    "cm_df = pd.DataFrame(cm, index=[0, 1], columns=[0, 1])\n",
    "cm_df.index.name = 'True Label'\n",
    "cm_df.columns.name = 'Predicted Label'\n",
    "cm_df = cm_df.rename(index={0: 'Class 0', 1: 'Class 1'},\n",
    "                     columns={0: 'Class 0', 1: 'Class 1'})\n",
    "\n",
    "# Plot the confusion matrix using seaborn\n",
    "plt.figure(figsize=(8, 6))\n",
    "sns.heatmap(cm_df, annot=True, fmt='d', cmap='Blues', cbar=False, square=True, \n",
    "            linewidths=0.2, linecolor=\"black\")\n",
    "plt.title(f'GCN Confusion Matrix (Threshold = {threshold})')\n",
    "plt.xlabel('Predicted Label')\n",
    "plt.ylabel('True Label')\n",
    "plt.xticks(rotation=0)\n",
    "plt.yticks(rotation=0)\n",
    "plt.show()"
   ]
  }
 ],
 "metadata": {
  "kernelspec": {
   "display_name": ".venv",
   "language": "python",
   "name": "python3"
  },
  "language_info": {
   "codemirror_mode": {
    "name": "ipython",
    "version": 3
   },
   "file_extension": ".py",
   "mimetype": "text/x-python",
   "name": "python",
   "nbconvert_exporter": "python",
   "pygments_lexer": "ipython3",
   "version": "3.11.7"
  }
 },
 "nbformat": 4,
 "nbformat_minor": 5
}
